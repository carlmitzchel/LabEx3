{
 "cells": [
  {
   "cell_type": "code",
   "execution_count": 3,
   "id": "2e2910f3-319a-4e1a-a6e9-bd2cf9ebbe39",
   "metadata": {},
   "outputs": [
    {
     "name": "stdout",
     "output_type": "stream",
     "text": [
      "Requirement already satisfied: pandas in /Library/Frameworks/Python.framework/Versions/3.12/lib/python3.12/site-packages (2.1.3)\n",
      "Requirement already satisfied: numpy<2,>=1.26.0 in /Library/Frameworks/Python.framework/Versions/3.12/lib/python3.12/site-packages (from pandas) (1.26.2)\n",
      "Requirement already satisfied: python-dateutil>=2.8.2 in /Library/Frameworks/Python.framework/Versions/3.12/lib/python3.12/site-packages (from pandas) (2.8.2)\n",
      "Requirement already satisfied: pytz>=2020.1 in /Library/Frameworks/Python.framework/Versions/3.12/lib/python3.12/site-packages (from pandas) (2023.3.post1)\n",
      "Requirement already satisfied: tzdata>=2022.1 in /Library/Frameworks/Python.framework/Versions/3.12/lib/python3.12/site-packages (from pandas) (2023.3)\n",
      "Requirement already satisfied: six>=1.5 in /Library/Frameworks/Python.framework/Versions/3.12/lib/python3.12/site-packages (from python-dateutil>=2.8.2->pandas) (1.16.0)\n",
      "Requirement already satisfied: numpy in /Library/Frameworks/Python.framework/Versions/3.12/lib/python3.12/site-packages (1.26.2)\n",
      "Requirement already satisfied: pyarrow in /Library/Frameworks/Python.framework/Versions/3.12/lib/python3.12/site-packages (14.0.1)\n",
      "Requirement already satisfied: numpy>=1.16.6 in /Library/Frameworks/Python.framework/Versions/3.12/lib/python3.12/site-packages (from pyarrow) (1.26.2)\n"
     ]
    }
   ],
   "source": [
    "!pip install pandas\n",
    "!pip install numpy\n",
    "!pip install pyarrow"
   ]
  },
  {
   "cell_type": "code",
   "execution_count": 4,
   "id": "ce2a3dd3-ab81-4976-a013-57f2f8e21dd0",
   "metadata": {},
   "outputs": [],
   "source": [
    "import pandas as pd\n",
    "import numpy as np"
   ]
  },
  {
   "cell_type": "code",
   "execution_count": 5,
   "id": "382ae2d5-2511-4a92-9dc9-2016e639530b",
   "metadata": {},
   "outputs": [],
   "source": [
    "df_branch_service = pd.read_json(\"branch_service_transaction_info.json\")\n",
    "df_customer_transaction = pd.read_json(\"customer_transaction_info.json\")"
   ]
  },
  {
   "cell_type": "code",
   "execution_count": 6,
   "id": "cf399775-d164-4099-ade4-78e757b811f8",
   "metadata": {},
   "outputs": [
    {
     "data": {
      "text/html": [
       "<div>\n",
       "<style scoped>\n",
       "    .dataframe tbody tr th:only-of-type {\n",
       "        vertical-align: middle;\n",
       "    }\n",
       "\n",
       "    .dataframe tbody tr th {\n",
       "        vertical-align: top;\n",
       "    }\n",
       "\n",
       "    .dataframe thead th {\n",
       "        text-align: right;\n",
       "    }\n",
       "</style>\n",
       "<table border=\"1\" class=\"dataframe\">\n",
       "  <thead>\n",
       "    <tr style=\"text-align: right;\">\n",
       "      <th></th>\n",
       "      <th>txn_id</th>\n",
       "      <th>avail_date</th>\n",
       "      <th>last_name</th>\n",
       "      <th>first_name</th>\n",
       "      <th>birthday</th>\n",
       "    </tr>\n",
       "  </thead>\n",
       "  <tbody>\n",
       "    <tr>\n",
       "      <th>0</th>\n",
       "      <td>TXN-24546</td>\n",
       "      <td>2030-09-08</td>\n",
       "      <td>ORTIZ</td>\n",
       "      <td>EDUARDO</td>\n",
       "      <td>1990-07-08</td>\n",
       "    </tr>\n",
       "    <tr>\n",
       "      <th>1</th>\n",
       "      <td>TXN-14642</td>\n",
       "      <td>2026-05-26</td>\n",
       "      <td>NIENOW</td>\n",
       "      <td>LEA</td>\n",
       "      <td>2000-11-26</td>\n",
       "    </tr>\n",
       "    <tr>\n",
       "      <th>2</th>\n",
       "      <td>TXN-60295</td>\n",
       "      <td>2006-09-25</td>\n",
       "      <td>LESCH</td>\n",
       "      <td>FLETA</td>\n",
       "      <td>1993-05-22</td>\n",
       "    </tr>\n",
       "    <tr>\n",
       "      <th>3</th>\n",
       "      <td>TXN-60295</td>\n",
       "      <td>2006-09-25</td>\n",
       "      <td>LESCH</td>\n",
       "      <td>FLETA</td>\n",
       "      <td>1993-05-22</td>\n",
       "    </tr>\n",
       "    <tr>\n",
       "      <th>4</th>\n",
       "      <td>TXN-60295</td>\n",
       "      <td>2006-09-25</td>\n",
       "      <td>LESCH</td>\n",
       "      <td>FLETA</td>\n",
       "      <td>1993-05-22</td>\n",
       "    </tr>\n",
       "    <tr>\n",
       "      <th>5</th>\n",
       "      <td>TXN-60295</td>\n",
       "      <td>2006-09-25</td>\n",
       "      <td>LESCH</td>\n",
       "      <td>FLETA</td>\n",
       "      <td>1993-05-22</td>\n",
       "    </tr>\n",
       "    <tr>\n",
       "      <th>6</th>\n",
       "      <td>TXN-40462</td>\n",
       "      <td>2021-08-21</td>\n",
       "      <td>KUHN</td>\n",
       "      <td>TOD</td>\n",
       "      <td>2002-11-25</td>\n",
       "    </tr>\n",
       "    <tr>\n",
       "      <th>7</th>\n",
       "      <td>TXN-40462</td>\n",
       "      <td>2021-08-21</td>\n",
       "      <td>KUHN</td>\n",
       "      <td>TOD</td>\n",
       "      <td>2002-11-25</td>\n",
       "    </tr>\n",
       "    <tr>\n",
       "      <th>8</th>\n",
       "      <td>TXN-08102</td>\n",
       "      <td>2010-04-03</td>\n",
       "      <td>JOHNSON</td>\n",
       "      <td>MILTON</td>\n",
       "      <td>2003-07-10</td>\n",
       "    </tr>\n",
       "    <tr>\n",
       "      <th>9</th>\n",
       "      <td>TXN-08102</td>\n",
       "      <td>2010-04-03</td>\n",
       "      <td>JOHNSON</td>\n",
       "      <td>MILTON</td>\n",
       "      <td>2003-07-10</td>\n",
       "    </tr>\n",
       "  </tbody>\n",
       "</table>\n",
       "</div>"
      ],
      "text/plain": [
       "      txn_id  avail_date last_name first_name    birthday\n",
       "0  TXN-24546  2030-09-08     ORTIZ    EDUARDO  1990-07-08\n",
       "1  TXN-14642  2026-05-26    NIENOW        LEA  2000-11-26\n",
       "2  TXN-60295  2006-09-25     LESCH      FLETA  1993-05-22\n",
       "3  TXN-60295  2006-09-25     LESCH      FLETA  1993-05-22\n",
       "4  TXN-60295  2006-09-25     LESCH      FLETA  1993-05-22\n",
       "5  TXN-60295  2006-09-25     LESCH      FLETA  1993-05-22\n",
       "6  TXN-40462  2021-08-21      KUHN        TOD  2002-11-25\n",
       "7  TXN-40462  2021-08-21      KUHN        TOD  2002-11-25\n",
       "8  TXN-08102  2010-04-03   JOHNSON     MILTON  2003-07-10\n",
       "9  TXN-08102  2010-04-03   JOHNSON     MILTON  2003-07-10"
      ]
     },
     "execution_count": 6,
     "metadata": {},
     "output_type": "execute_result"
    }
   ],
   "source": [
    "df_customer_transaction.head(10)"
   ]
  },
  {
   "cell_type": "code",
   "execution_count": 7,
   "id": "2a8cbfc6-c40f-431f-8ec2-56cc62e9913a",
   "metadata": {},
   "outputs": [
    {
     "data": {
      "text/html": [
       "<div>\n",
       "<style scoped>\n",
       "    .dataframe tbody tr th:only-of-type {\n",
       "        vertical-align: middle;\n",
       "    }\n",
       "\n",
       "    .dataframe tbody tr th {\n",
       "        vertical-align: top;\n",
       "    }\n",
       "\n",
       "    .dataframe thead th {\n",
       "        text-align: right;\n",
       "    }\n",
       "</style>\n",
       "<table border=\"1\" class=\"dataframe\">\n",
       "  <thead>\n",
       "    <tr style=\"text-align: right;\">\n",
       "      <th></th>\n",
       "      <th>txn_id</th>\n",
       "      <th>branch_name</th>\n",
       "      <th>service</th>\n",
       "      <th>price</th>\n",
       "    </tr>\n",
       "  </thead>\n",
       "  <tbody>\n",
       "    <tr>\n",
       "      <th>0</th>\n",
       "      <td>TXN-24546</td>\n",
       "      <td>MallOfAsia</td>\n",
       "      <td>Manicure</td>\n",
       "      <td>NaN</td>\n",
       "    </tr>\n",
       "    <tr>\n",
       "      <th>1</th>\n",
       "      <td>TXN-14642</td>\n",
       "      <td>Starmall</td>\n",
       "      <td>HairColor</td>\n",
       "      <td>NaN</td>\n",
       "    </tr>\n",
       "    <tr>\n",
       "      <th>2</th>\n",
       "      <td>TXN-60295</td>\n",
       "      <td>SmallMall</td>\n",
       "      <td>FootSpa</td>\n",
       "      <td>NaN</td>\n",
       "    </tr>\n",
       "    <tr>\n",
       "      <th>3</th>\n",
       "      <td>TXN-60295</td>\n",
       "      <td>Starmall</td>\n",
       "      <td>FootSpa</td>\n",
       "      <td>NaN</td>\n",
       "    </tr>\n",
       "    <tr>\n",
       "      <th>4</th>\n",
       "      <td>TXN-60295</td>\n",
       "      <td>MayMall</td>\n",
       "      <td>FootSpa</td>\n",
       "      <td>NaN</td>\n",
       "    </tr>\n",
       "    <tr>\n",
       "      <th>5</th>\n",
       "      <td>TXN-60295</td>\n",
       "      <td>FrankMall</td>\n",
       "      <td>FootSpa</td>\n",
       "      <td>NaN</td>\n",
       "    </tr>\n",
       "    <tr>\n",
       "      <th>6</th>\n",
       "      <td>TXN-40462</td>\n",
       "      <td>Starmall</td>\n",
       "      <td>HairColor</td>\n",
       "      <td>NaN</td>\n",
       "    </tr>\n",
       "    <tr>\n",
       "      <th>7</th>\n",
       "      <td>TXN-40462</td>\n",
       "      <td>Megamall</td>\n",
       "      <td>HairColor</td>\n",
       "      <td>NaN</td>\n",
       "    </tr>\n",
       "    <tr>\n",
       "      <th>8</th>\n",
       "      <td>TXN-08102</td>\n",
       "      <td>RobinsonsMall</td>\n",
       "      <td>HairColor</td>\n",
       "      <td>NaN</td>\n",
       "    </tr>\n",
       "    <tr>\n",
       "      <th>9</th>\n",
       "      <td>TXN-08102</td>\n",
       "      <td>SmallMall</td>\n",
       "      <td>HairColor</td>\n",
       "      <td>NaN</td>\n",
       "    </tr>\n",
       "  </tbody>\n",
       "</table>\n",
       "</div>"
      ],
      "text/plain": [
       "      txn_id    branch_name    service  price\n",
       "0  TXN-24546     MallOfAsia   Manicure    NaN\n",
       "1  TXN-14642       Starmall  HairColor    NaN\n",
       "2  TXN-60295      SmallMall    FootSpa    NaN\n",
       "3  TXN-60295       Starmall    FootSpa    NaN\n",
       "4  TXN-60295        MayMall    FootSpa    NaN\n",
       "5  TXN-60295      FrankMall    FootSpa    NaN\n",
       "6  TXN-40462       Starmall  HairColor    NaN\n",
       "7  TXN-40462       Megamall  HairColor    NaN\n",
       "8  TXN-08102  RobinsonsMall  HairColor    NaN\n",
       "9  TXN-08102      SmallMall  HairColor    NaN"
      ]
     },
     "execution_count": 7,
     "metadata": {},
     "output_type": "execute_result"
    }
   ],
   "source": [
    "df_branch_service.head(10)"
   ]
  },
  {
   "cell_type": "code",
   "execution_count": 8,
   "id": "ba9d964d-a021-4c4d-8b5a-ec24d14e0ad4",
   "metadata": {},
   "outputs": [
    {
     "data": {
      "text/html": [
       "<div>\n",
       "<style scoped>\n",
       "    .dataframe tbody tr th:only-of-type {\n",
       "        vertical-align: middle;\n",
       "    }\n",
       "\n",
       "    .dataframe tbody tr th {\n",
       "        vertical-align: top;\n",
       "    }\n",
       "\n",
       "    .dataframe thead th {\n",
       "        text-align: right;\n",
       "    }\n",
       "</style>\n",
       "<table border=\"1\" class=\"dataframe\">\n",
       "  <thead>\n",
       "    <tr style=\"text-align: right;\">\n",
       "      <th></th>\n",
       "      <th>txn_id</th>\n",
       "      <th>branch_name</th>\n",
       "      <th>service</th>\n",
       "      <th>price</th>\n",
       "    </tr>\n",
       "  </thead>\n",
       "  <tbody>\n",
       "    <tr>\n",
       "      <th>130643</th>\n",
       "      <td>TXN-11897</td>\n",
       "      <td>FrankMall</td>\n",
       "      <td>FootSpa</td>\n",
       "      <td>100.121230</td>\n",
       "    </tr>\n",
       "    <tr>\n",
       "      <th>130644</th>\n",
       "      <td>TXN-11897</td>\n",
       "      <td>RobinsonsMall</td>\n",
       "      <td>FootSpa</td>\n",
       "      <td>100.121230</td>\n",
       "    </tr>\n",
       "    <tr>\n",
       "      <th>130645</th>\n",
       "      <td>TXN-11897</td>\n",
       "      <td>FrankMall</td>\n",
       "      <td>FootSpa</td>\n",
       "      <td>100.121230</td>\n",
       "    </tr>\n",
       "    <tr>\n",
       "      <th>130646</th>\n",
       "      <td>TXN-43876</td>\n",
       "      <td></td>\n",
       "      <td>Haircut</td>\n",
       "      <td>66.123457</td>\n",
       "    </tr>\n",
       "    <tr>\n",
       "      <th>130647</th>\n",
       "      <td>TXN-65468</td>\n",
       "      <td>RobinsonsMall</td>\n",
       "      <td>Haircut</td>\n",
       "      <td>66.123457</td>\n",
       "    </tr>\n",
       "    <tr>\n",
       "      <th>130648</th>\n",
       "      <td>TXN-65468</td>\n",
       "      <td>MallOfAsia</td>\n",
       "      <td>Haircut</td>\n",
       "      <td>66.123457</td>\n",
       "    </tr>\n",
       "    <tr>\n",
       "      <th>130649</th>\n",
       "      <td>TXN-60822</td>\n",
       "      <td>MallOfAsia</td>\n",
       "      <td>Rebond</td>\n",
       "      <td>400.231230</td>\n",
       "    </tr>\n",
       "    <tr>\n",
       "      <th>130650</th>\n",
       "      <td>TXN-60822</td>\n",
       "      <td>FrankMall</td>\n",
       "      <td>Rebond</td>\n",
       "      <td>400.231230</td>\n",
       "    </tr>\n",
       "    <tr>\n",
       "      <th>130651</th>\n",
       "      <td>TXN-01784</td>\n",
       "      <td>RobinsonsMall</td>\n",
       "      <td>HairColor</td>\n",
       "      <td>88.093930</td>\n",
       "    </tr>\n",
       "    <tr>\n",
       "      <th>130652</th>\n",
       "      <td>TXN-01784</td>\n",
       "      <td>MallOfAsia</td>\n",
       "      <td>HairColor</td>\n",
       "      <td>88.093930</td>\n",
       "    </tr>\n",
       "  </tbody>\n",
       "</table>\n",
       "</div>"
      ],
      "text/plain": [
       "           txn_id    branch_name    service       price\n",
       "130643  TXN-11897      FrankMall    FootSpa  100.121230\n",
       "130644  TXN-11897  RobinsonsMall    FootSpa  100.121230\n",
       "130645  TXN-11897      FrankMall    FootSpa  100.121230\n",
       "130646  TXN-43876                   Haircut   66.123457\n",
       "130647  TXN-65468  RobinsonsMall    Haircut   66.123457\n",
       "130648  TXN-65468     MallOfAsia    Haircut   66.123457\n",
       "130649  TXN-60822     MallOfAsia     Rebond  400.231230\n",
       "130650  TXN-60822      FrankMall     Rebond  400.231230\n",
       "130651  TXN-01784  RobinsonsMall  HairColor   88.093930\n",
       "130652  TXN-01784     MallOfAsia  HairColor   88.093930"
      ]
     },
     "execution_count": 8,
     "metadata": {},
     "output_type": "execute_result"
    }
   ],
   "source": [
    "df_branch_service.tail(10)"
   ]
  },
  {
   "cell_type": "code",
   "execution_count": 9,
   "id": "b169d286-9e5d-4feb-98c7-8099405b87a4",
   "metadata": {},
   "outputs": [
    {
     "name": "stdout",
     "output_type": "stream",
     "text": [
      "(130653, 5)\n",
      "(130653, 4)\n"
     ]
    }
   ],
   "source": [
    "print(df_customer_transaction.shape)\n",
    "print(df_branch_service.shape)"
   ]
  },
  {
   "cell_type": "code",
   "execution_count": 10,
   "id": "179f8d22-81a6-4609-af31-992bfd2f2ee8",
   "metadata": {},
   "outputs": [
    {
     "name": "stdout",
     "output_type": "stream",
     "text": [
      "62354\n",
      "62354\n"
     ]
    }
   ],
   "source": [
    "print(df_customer_transaction['txn_id'].nunique())\n",
    "print(df_branch_service['txn_id'].nunique())"
   ]
  },
  {
   "cell_type": "code",
   "execution_count": 11,
   "id": "3d25d5f6-b7f9-41eb-9362-de51cb1e0d64",
   "metadata": {},
   "outputs": [
    {
     "data": {
      "text/plain": [
       "array(['Manicure', 'HairColor', 'FootSpa', 'Rebond', 'Haircut',\n",
       "       'NailColor', 'Pedicure'], dtype=object)"
      ]
     },
     "execution_count": 11,
     "metadata": {},
     "output_type": "execute_result"
    }
   ],
   "source": [
    "df_branch_service['service'].unique()"
   ]
  },
  {
   "cell_type": "code",
   "execution_count": 12,
   "id": "fddf6289-58ea-4872-8009-f9c0e58e38af",
   "metadata": {},
   "outputs": [
    {
     "data": {
      "text/plain": [
       "count    110653.000000\n",
       "mean         95.966969\n",
       "std         115.874117\n",
       "min           0.000000\n",
       "25%          30.123790\n",
       "50%          66.123457\n",
       "75%          88.093930\n",
       "max         400.231230\n",
       "Name: price, dtype: float64"
      ]
     },
     "execution_count": 12,
     "metadata": {},
     "output_type": "execute_result"
    }
   ],
   "source": [
    "df_branch_service['price'].describe()"
   ]
  },
  {
   "cell_type": "code",
   "execution_count": 13,
   "id": "19993ed4-818e-4a5c-ac7c-c186392e9f80",
   "metadata": {},
   "outputs": [
    {
     "name": "stdout",
     "output_type": "stream",
     "text": [
      "2005-01-01\n",
      "2030-12-30\n"
     ]
    }
   ],
   "source": [
    "print(df_customer_transaction['avail_date'].min())\n",
    "print(df_customer_transaction['avail_date'].max())\n"
   ]
  },
  {
   "cell_type": "code",
   "execution_count": 14,
   "id": "645c10a9-6f77-41dd-84a2-693dbe261e86",
   "metadata": {},
   "outputs": [
    {
     "data": {
      "text/plain": [
       "0            ORTIZ\n",
       "1           NIENOW\n",
       "2            LESCH\n",
       "3            LESCH\n",
       "4            LESCH\n",
       "            ...   \n",
       "130648    Cummings\n",
       "130649        Feil\n",
       "130650        Feil\n",
       "130651     Schmidt\n",
       "130652     Schmidt\n",
       "Name: last_name, Length: 130653, dtype: object"
      ]
     },
     "execution_count": 14,
     "metadata": {},
     "output_type": "execute_result"
    }
   ],
   "source": [
    "df_customer_transaction['last_name']"
   ]
  },
  {
   "cell_type": "code",
   "execution_count": 15,
   "id": "95999477-a505-40aa-95fc-80f9a8f12b67",
   "metadata": {},
   "outputs": [
    {
     "data": {
      "text/plain": [
       "5500    HEIDENREICH\n",
       "5501         WILLMS\n",
       "5502         WILLMS\n",
       "5503           WIZA\n",
       "5504     SWANIAWSKI\n",
       "5505            TOY\n",
       "5506         HARVEY\n",
       "5507         HARVEY\n",
       "5508         HARVEY\n",
       "5509          ROBEL\n",
       "5510          ROBEL\n",
       "5511           AUER\n",
       "5512           AUER\n",
       "5513        BARROWS\n",
       "5514        BARROWS\n",
       "5515        BARROWS\n",
       "5516      RODRIGUEZ\n",
       "5517      RODRIGUEZ\n",
       "5518          LAKIN\n",
       "5519      WILKINSON\n",
       "Name: last_name, dtype: object"
      ]
     },
     "execution_count": 15,
     "metadata": {},
     "output_type": "execute_result"
    }
   ],
   "source": [
    "df_customer_transaction['last_name'].iloc[5500:5520]"
   ]
  },
  {
   "cell_type": "code",
   "execution_count": 16,
   "id": "af9c50a2-ba6c-41db-800a-b4d8ae17215e",
   "metadata": {},
   "outputs": [
    {
     "name": "stdout",
     "output_type": "stream",
     "text": [
      "(130653, 5)\n",
      "(72355, 5)\n"
     ]
    }
   ],
   "source": [
    "print(df_customer_transaction.shape)\n",
    "df_customer_transaction = df_customer_transaction.drop_duplicates()\n",
    "print(df_customer_transaction.shape)"
   ]
  },
  {
   "cell_type": "code",
   "execution_count": 17,
   "metadata": {},
   "outputs": [
    {
     "data": {
      "text/html": [
       "<div>\n",
       "<style scoped>\n",
       "    .dataframe tbody tr th:only-of-type {\n",
       "        vertical-align: middle;\n",
       "    }\n",
       "\n",
       "    .dataframe tbody tr th {\n",
       "        vertical-align: top;\n",
       "    }\n",
       "\n",
       "    .dataframe thead th {\n",
       "        text-align: right;\n",
       "    }\n",
       "</style>\n",
       "<table border=\"1\" class=\"dataframe\">\n",
       "  <thead>\n",
       "    <tr style=\"text-align: right;\">\n",
       "      <th></th>\n",
       "      <th>txn_id</th>\n",
       "      <th>avail_date</th>\n",
       "      <th>last_name</th>\n",
       "      <th>first_name</th>\n",
       "      <th>birthday</th>\n",
       "    </tr>\n",
       "  </thead>\n",
       "  <tbody>\n",
       "    <tr>\n",
       "      <th>0</th>\n",
       "      <td>TXN-24546</td>\n",
       "      <td>2030-09-08</td>\n",
       "      <td>ortiz</td>\n",
       "      <td>EDUARDO</td>\n",
       "      <td>1990-07-08</td>\n",
       "    </tr>\n",
       "    <tr>\n",
       "      <th>1</th>\n",
       "      <td>TXN-14642</td>\n",
       "      <td>2026-05-26</td>\n",
       "      <td>nienow</td>\n",
       "      <td>LEA</td>\n",
       "      <td>2000-11-26</td>\n",
       "    </tr>\n",
       "  </tbody>\n",
       "</table>\n",
       "</div>"
      ],
      "text/plain": [
       "      txn_id  avail_date last_name first_name    birthday\n",
       "0  TXN-24546  2030-09-08     ortiz    EDUARDO  1990-07-08\n",
       "1  TXN-14642  2026-05-26    nienow        LEA  2000-11-26"
      ]
     },
     "execution_count": 17,
     "metadata": {},
     "output_type": "execute_result"
    }
   ],
   "source": [
    "df_customer_transaction['last_name'] = df_customer_transaction['last_name'].str.lower()\n",
    "df_customer_transaction.head(2)"
   ]
  },
  {
   "cell_type": "code",
   "execution_count": 18,
   "metadata": {},
   "outputs": [],
   "source": [
    "df_customer_transaction.to_parquet(\"customer_txt_last_name_clean.parquet\")"
   ]
  },
  {
   "cell_type": "code",
   "execution_count": 19,
   "metadata": {},
   "outputs": [],
   "source": [
    "# Yearly View Per Branch\n",
    "df_merged = pd.merge(df_customer_transaction, df_branch_service)\n",
    "df_merged.to_parquet(\"merged_data.parquet\")\n",
    "# Merging customer transaction table and branch service"
   ]
  },
  {
   "cell_type": "markdown",
   "metadata": {},
   "source": [
    "**qweqweqwe**"
   ]
  },
  {
   "cell_type": "code",
   "execution_count": 20,
   "metadata": {},
   "outputs": [
    {
     "data": {
      "text/html": [
       "<div>\n",
       "<style scoped>\n",
       "    .dataframe tbody tr th:only-of-type {\n",
       "        vertical-align: middle;\n",
       "    }\n",
       "\n",
       "    .dataframe tbody tr th {\n",
       "        vertical-align: top;\n",
       "    }\n",
       "\n",
       "    .dataframe thead th {\n",
       "        text-align: right;\n",
       "    }\n",
       "</style>\n",
       "<table border=\"1\" class=\"dataframe\">\n",
       "  <thead>\n",
       "    <tr style=\"text-align: right;\">\n",
       "      <th></th>\n",
       "      <th></th>\n",
       "      <th>price</th>\n",
       "    </tr>\n",
       "    <tr>\n",
       "      <th>avail_date</th>\n",
       "      <th>branch_name</th>\n",
       "      <th></th>\n",
       "    </tr>\n",
       "  </thead>\n",
       "  <tbody>\n",
       "    <tr>\n",
       "      <th rowspan=\"5\" valign=\"top\">2005</th>\n",
       "      <th></th>\n",
       "      <td>4298.024691</td>\n",
       "    </tr>\n",
       "    <tr>\n",
       "      <th>FrankMall</th>\n",
       "      <td>56711.249909</td>\n",
       "    </tr>\n",
       "    <tr>\n",
       "      <th>MallOfAsia</th>\n",
       "      <td>62502.141612</td>\n",
       "    </tr>\n",
       "    <tr>\n",
       "      <th>MayMall</th>\n",
       "      <td>65314.419050</td>\n",
       "    </tr>\n",
       "    <tr>\n",
       "      <th>Megamall</th>\n",
       "      <td>63722.520395</td>\n",
       "    </tr>\n",
       "    <tr>\n",
       "      <th>...</th>\n",
       "      <th>...</th>\n",
       "      <td>...</td>\n",
       "    </tr>\n",
       "    <tr>\n",
       "      <th rowspan=\"5\" valign=\"top\">2030</th>\n",
       "      <th>Megamall</th>\n",
       "      <td>61514.464025</td>\n",
       "    </tr>\n",
       "    <tr>\n",
       "      <th>N/A</th>\n",
       "      <td>2048.417700</td>\n",
       "    </tr>\n",
       "    <tr>\n",
       "      <th>RobinsonsMall</th>\n",
       "      <td>56816.266169</td>\n",
       "    </tr>\n",
       "    <tr>\n",
       "      <th>SmallMall</th>\n",
       "      <td>60680.995068</td>\n",
       "    </tr>\n",
       "    <tr>\n",
       "      <th>Starmall</th>\n",
       "      <td>64301.362128</td>\n",
       "    </tr>\n",
       "  </tbody>\n",
       "</table>\n",
       "<p>234 rows × 1 columns</p>\n",
       "</div>"
      ],
      "text/plain": [
       "                                 price\n",
       "avail_date branch_name                \n",
       "2005                       4298.024691\n",
       "           FrankMall      56711.249909\n",
       "           MallOfAsia     62502.141612\n",
       "           MayMall        65314.419050\n",
       "           Megamall       63722.520395\n",
       "...                                ...\n",
       "2030       Megamall       61514.464025\n",
       "           N/A             2048.417700\n",
       "           RobinsonsMall  56816.266169\n",
       "           SmallMall      60680.995068\n",
       "           Starmall       64301.362128\n",
       "\n",
       "[234 rows x 1 columns]"
      ]
     },
     "execution_count": 20,
     "metadata": {},
     "output_type": "execute_result"
    }
   ],
   "source": [
    "df_merged['avail_date'] = pd.to_datetime(df_merged['avail_date'])\n",
    "df_merged.groupby([df_merged.avail_date.dt.year, 'branch_name'])['price'].sum().to_frame()"
   ]
  }
 ],
 "metadata": {
  "kernelspec": {
   "display_name": "Python 3 (ipykernel)",
   "language": "python",
   "name": "python3"
  },
  "language_info": {
   "codemirror_mode": {
    "name": "ipython",
    "version": 3
   },
   "file_extension": ".py",
   "mimetype": "text/x-python",
   "name": "python",
   "nbconvert_exporter": "python",
   "pygments_lexer": "ipython3",
   "version": "3.12.0"
  }
 },
 "nbformat": 4,
 "nbformat_minor": 5
}
