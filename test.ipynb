{
 "cells": [
  {
   "cell_type": "code",
   "execution_count": null,
   "metadata": {},
   "outputs": [],
   "source": [
    "import pandas as pd\n",
    "import numpy as np\n",
    "from datetime import date"
   ]
  },
  {
   "cell_type": "code",
   "execution_count": null,
   "metadata": {},
   "outputs": [],
   "source": [
    "#Loading the data\n",
    "today = str(date.today())\n",
    "df_branch_service = pd.read_json(\"branch_service_transaction_info.json\")\n",
    "df_customer_transaction = pd.read_json(\"customer_transaction_info.json\")"
   ]
  },
  {
   "cell_type": "code",
   "execution_count": null,
   "metadata": {},
   "outputs": [],
   "source": [
    "#Profiling the data\n",
    "df_branch_service.head(10)"
   ]
  },
  {
   "cell_type": "code",
   "execution_count": null,
   "metadata": {},
   "outputs": [],
   "source": [
    "df_customer_transaction.head(10)"
   ]
  },
  {
   "cell_type": "code",
   "execution_count": null,
   "metadata": {},
   "outputs": [],
   "source": [
    "print(df_branch_service.shape)\n",
    "print(df_customer_transaction.shape)"
   ]
  },
  {
   "cell_type": "code",
   "execution_count": null,
   "metadata": {},
   "outputs": [],
   "source": [
    "print(df_branch_service['txn_id'].nunique())\n",
    "print(df_customer_transaction['txn_id'].nunique())"
   ]
  },
  {
   "cell_type": "code",
   "execution_count": null,
   "metadata": {},
   "outputs": [],
   "source": [
    "#Dropping duplicates\n",
    "df_branch_service = df_branch_service.drop_duplicates(subset=['txn_id'])\n",
    "df_customer_transaction = df_customer_transaction.drop_duplicates(subset=['txn_id'])"
   ]
  },
  {
   "cell_type": "code",
   "execution_count": null,
   "metadata": {},
   "outputs": [],
   "source": [
    "#confirming shape\n",
    "print(df_branch_service.shape)\n",
    "print(df_customer_transaction.shape)"
   ]
  },
  {
   "cell_type": "code",
   "execution_count": null,
   "metadata": {},
   "outputs": [],
   "source": [
    "#checking null values count per column\n",
    "df_branch_service.isnull().sum()"
   ]
  },
  {
   "cell_type": "code",
   "execution_count": null,
   "metadata": {},
   "outputs": [],
   "source": [
    "df_customer_transaction.isnull().sum()"
   ]
  },
  {
   "cell_type": "code",
   "execution_count": null,
   "metadata": {},
   "outputs": [],
   "source": [
    "#fill up null values with forward fill for branch_name\n",
    "df_branch_service['branch_name'].unique()"
   ]
  },
  {
   "cell_type": "code",
   "execution_count": null,
   "metadata": {},
   "outputs": [],
   "source": [
    "#'' and None are empty values, fill them with forward fill\n",
    "# first, let '' be null\n",
    "df_branch_service['branch_name'] = df_branch_service.replace('',np.nan).groupby('txn_id')['branch_name'].transform('first')\n",
    "# then fill null, use forward and backward to fill\n",
    "df_branch_service['branch_name'] = df_branch_service['branch_name'].ffill().bfill()"
   ]
  },
  {
   "cell_type": "code",
   "execution_count": null,
   "metadata": {},
   "outputs": [],
   "source": [
    "#confirming branch_name has no null\n",
    "df_branch_service.isnull().sum()"
   ]
  },
  {
   "cell_type": "code",
   "execution_count": null,
   "metadata": {},
   "outputs": [],
   "source": [
    "df_branch_service['branch_name'].unique()"
   ]
  },
  {
   "cell_type": "code",
   "execution_count": null,
   "metadata": {},
   "outputs": [],
   "source": [
    "# group mean fill prices\n",
    "df_branch_service['price'] = df_branch_service['price'].fillna(df_branch_service.groupby(['branch_name','service'])['price'].transform('mean'))"
   ]
  },
  {
   "cell_type": "code",
   "execution_count": null,
   "metadata": {},
   "outputs": [],
   "source": [
    "#confirming price has no null\n",
    "df_branch_service.isnull().sum()"
   ]
  },
  {
   "cell_type": "code",
   "execution_count": null,
   "metadata": {},
   "outputs": [],
   "source": [
    "df_branch_service.head(10)"
   ]
  },
  {
   "cell_type": "code",
   "execution_count": null,
   "metadata": {},
   "outputs": [],
   "source": [
    "df_merged = pd.merge(df_customer_transaction, df_branch_service)"
   ]
  },
  {
   "cell_type": "code",
   "execution_count": null,
   "metadata": {},
   "outputs": [],
   "source": [
    "#profiling of merged dataframe\n",
    "df_merged.isnull().sum()"
   ]
  },
  {
   "cell_type": "code",
   "execution_count": null,
   "metadata": {},
   "outputs": [],
   "source": [
    "df_merged.sample(20)"
   ]
  },
  {
   "cell_type": "code",
   "execution_count": null,
   "metadata": {},
   "outputs": [],
   "source": [
    "#filter alphabet only in last_name and first_name\n",
    "df_merged['last_name'] = df_merged['last_name'].str.replace('\\W', '', regex=True)\n",
    "df_merged['first_name'] = df_merged['first_name'].str.replace('\\W', '', regex=True)"
   ]
  },
  {
   "cell_type": "code",
   "execution_count": null,
   "metadata": {},
   "outputs": [],
   "source": [
    "#uppercase for last_name and first_name\n",
    "df_merged['last_name'] = df_merged['last_name'].str.upper()\n",
    "df_merged['first_name'] = df_merged['first_name'].str.upper()"
   ]
  },
  {
   "cell_type": "code",
   "execution_count": null,
   "metadata": {},
   "outputs": [],
   "source": [
    "#check if no special characters and all uppercase for names\n",
    "df_merged.sample(20)"
   ]
  },
  {
   "cell_type": "code",
   "execution_count": null,
   "metadata": {},
   "outputs": [],
   "source": [
    "#profiling date columns\n",
    "print(df_merged['birthday'].min())\n",
    "print(df_merged['birthday'].max())\n",
    "\n",
    "print(df_merged['avail_date'].min())\n",
    "print(df_merged['avail_date'].max())\n",
    "\n",
    "print(df_merged['avail_date'].describe)\n",
    "print(df_merged['birthday'].describe)\n",
    "\n",
    "print(df_merged[(df_merged['avail_date'] <= df_merged['birthday'])])"
   ]
  },
  {
   "cell_type": "code",
   "execution_count": null,
   "metadata": {},
   "outputs": [],
   "source": [
    "#data type of birthday and avail_date should be datetime instead of object\n",
    "df_merged['avail_date'] = pd.to_datetime(df_merged['avail_date'], format='%Y-%m-%d')\n",
    "df_merged['birthday'] = pd.to_datetime(df_merged['birthday'], format='%Y-%m-%d')\n",
    "\n",
    "#confirming\n",
    "print(df_merged['avail_date'].describe)\n",
    "print(df_merged['birthday'].describe)"
   ]
  },
  {
   "cell_type": "code",
   "execution_count": null,
   "metadata": {},
   "outputs": [],
   "source": [
    "#removing rows with later date than current date\n",
    "df_merged = df_merged[(df_merged['avail_date'] <= today) & (df_merged['birthday'] <= today)]"
   ]
  },
  {
   "cell_type": "code",
   "execution_count": null,
   "metadata": {},
   "outputs": [],
   "source": [
    "#removing rows when avail_date happens before birthday\n",
    "df_merged = df_merged[(df_merged['avail_date'] > df_merged['birthday'])]"
   ]
  },
  {
   "cell_type": "code",
   "execution_count": null,
   "metadata": {},
   "outputs": [],
   "source": [
    "#confirming\n",
    "print(df_merged['birthday'].max())\n",
    "print(df_merged['avail_date'].max())\n",
    "\n",
    "print(df_merged[(df_merged['avail_date'] <= df_merged['birthday'])])"
   ]
  },
  {
   "cell_type": "code",
   "execution_count": null,
   "metadata": {},
   "outputs": [],
   "source": [
    "df_merged.sample(20)"
   ]
  },
  {
   "cell_type": "code",
   "execution_count": null,
   "metadata": {},
   "outputs": [],
   "source": [
    "df_merged.shape"
   ]
  },
  {
   "cell_type": "code",
   "execution_count": null,
   "metadata": {},
   "outputs": [],
   "source": []
  }
 ],
 "metadata": {
  "kernelspec": {
   "display_name": "Python 3",
   "language": "python",
   "name": "python3"
  },
  "language_info": {
   "codemirror_mode": {
    "name": "ipython",
    "version": 3
   },
   "file_extension": ".py",
   "mimetype": "text/x-python",
   "name": "python",
   "nbconvert_exporter": "python",
   "pygments_lexer": "ipython3",
   "version": "3.11.6"
  }
 },
 "nbformat": 4,
 "nbformat_minor": 2
}
